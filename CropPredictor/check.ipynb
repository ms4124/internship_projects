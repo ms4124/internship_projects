{
 "cells": [
  {
   "cell_type": "code",
   "execution_count": 1,
   "id": "843956b7",
   "metadata": {},
   "outputs": [
    {
     "name": "stdout",
     "output_type": "stream",
     "text": [
      "Model expects these features: ['N' 'P' 'K' 'temperature' 'humidity' 'ph' 'rainfall']\n",
      "Prediction: [5]\n"
     ]
    },
    {
     "name": "stderr",
     "output_type": "stream",
     "text": [
      "/opt/anaconda3/lib/python3.12/site-packages/sklearn/base.py:493: UserWarning: X does not have valid feature names, but RandomForestClassifier was fitted with feature names\n",
      "  warnings.warn(\n"
     ]
    }
   ],
   "source": [
    "import joblib\n",
    "\n",
    "# Load model\n",
    "model = joblib.load(\"model.lb\")\n",
    "\n",
    "# Print expected features (only for scikit-learn models)\n",
    "try:\n",
    "    print(\"Model expects these features:\", model.feature_names_in_)\n",
    "except AttributeError:\n",
    "    print(\"Feature names not available in this model.\")\n",
    "\n",
    "# Try a dummy input\n",
    "import numpy as np\n",
    "sample_input = np.array([[90, 40, 40, 25, 65, 6.5, 100]])  # [N, P, K, Temp, Humidity, pH, Rainfall]\n",
    "print(\"Prediction:\", model.predict(sample_input))\n"
   ]
  },
  {
   "cell_type": "code",
   "execution_count": 2,
   "id": "be7ba652",
   "metadata": {},
   "outputs": [
    {
     "name": "stdout",
     "output_type": "stream",
     "text": [
      "Prediction: [5]\n"
     ]
    }
   ],
   "source": [
    "import pandas as pd\n",
    "\n",
    "sample_df = pd.DataFrame([{\n",
    "    'N': 90,\n",
    "    'P': 40,\n",
    "    'K': 40,\n",
    "    'temperature': 25,\n",
    "    'humidity': 65,\n",
    "    'ph': 6.5,\n",
    "    'rainfall': 100\n",
    "}])\n",
    "\n",
    "print(\"Prediction:\", model.predict(sample_df))\n"
   ]
  },
  {
   "cell_type": "code",
   "execution_count": 7,
   "id": "fcd2b75e",
   "metadata": {},
   "outputs": [
    {
     "name": "stdout",
     "output_type": "stream",
     "text": [
      "Classes (original labels): ['apple' 'banana' 'blackgram' 'chickpea' 'coconut' 'coffee' 'cotton'\n",
      " 'grapes' 'jute' 'kidneybeans' 'lentil' 'maize' 'mango' 'mothbeans'\n",
      " 'mungbean' 'muskmelon' 'orange' 'papaya' 'pigeonpeas' 'pomegranate'\n",
      " 'rice' 'watermelon']\n",
      "'apple' -> 0\n",
      "'banana' -> 1\n",
      "'blackgram' -> 2\n",
      "'chickpea' -> 3\n",
      "'coconut' -> 4\n",
      "'coffee' -> 5\n",
      "'cotton' -> 6\n",
      "'grapes' -> 7\n",
      "'jute' -> 8\n",
      "'kidneybeans' -> 9\n",
      "'lentil' -> 10\n",
      "'maize' -> 11\n",
      "'mango' -> 12\n",
      "'mothbeans' -> 13\n",
      "'mungbean' -> 14\n",
      "'muskmelon' -> 15\n",
      "'orange' -> 16\n",
      "'papaya' -> 17\n",
      "'pigeonpeas' -> 18\n",
      "'pomegranate' -> 19\n",
      "'rice' -> 20\n",
      "'watermelon' -> 21\n"
     ]
    }
   ],
   "source": [
    "from sklearn.preprocessing import LabelEncoder\n",
    "\n",
    "# Example: maan lo aapke paas ye original labels hain:\n",
    "labels = ['rice', 'maize', 'chickpea', 'kidneybeans', 'pigeonpeas',\n",
    "       'mothbeans', 'mungbean', 'blackgram', 'lentil', 'pomegranate',\n",
    "       'banana', 'mango', 'grapes', 'watermelon', 'muskmelon', 'apple',\n",
    "       'orange', 'papaya', 'coconut', 'cotton', 'jute', 'coffee']\n",
    "\n",
    "# LabelEncoder initialize karo\n",
    "le = LabelEncoder()\n",
    "\n",
    "# Fit karo labels pe\n",
    "le.fit(labels)\n",
    "\n",
    "# Ab aap encoded labels dekh sakte ho:\n",
    "print(\"Classes (original labels):\", le.classes_)\n",
    "\n",
    "# Har label ka corresponding encoded value:\n",
    "for i, class_label in enumerate(le.classes_):\n",
    "    print(f\"'{class_label}' -> {i}\")\n"
   ]
  },
  {
   "cell_type": "code",
   "execution_count": 8,
   "id": "087e9a13",
   "metadata": {},
   "outputs": [
    {
     "name": "stdout",
     "output_type": "stream",
     "text": [
      "['N' 'P' 'K' 'temperature' 'humidity' 'ph' 'rainfall']\n"
     ]
    }
   ],
   "source": [
    "print(model.feature_names_in_)  # For sklearn>=1.0\n"
   ]
  },
  {
   "cell_type": "code",
   "execution_count": null,
   "id": "792ababb",
   "metadata": {},
   "outputs": [],
   "source": []
  }
 ],
 "metadata": {
  "kernelspec": {
   "display_name": "base",
   "language": "python",
   "name": "python3"
  },
  "language_info": {
   "codemirror_mode": {
    "name": "ipython",
    "version": 3
   },
   "file_extension": ".py",
   "mimetype": "text/x-python",
   "name": "python",
   "nbconvert_exporter": "python",
   "pygments_lexer": "ipython3",
   "version": "3.12.7"
  }
 },
 "nbformat": 4,
 "nbformat_minor": 5
}
